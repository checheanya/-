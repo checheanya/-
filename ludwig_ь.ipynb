{
 "cells": [
  {
   "cell_type": "code",
   "execution_count": 192,
   "metadata": {},
   "outputs": [],
   "source": [
    "from ludwig.api import LudwigModel\n",
    "import pandas as pd\n",
    "import pathlib\n",
    "import os"
   ]
  },
  {
   "cell_type": "code",
   "execution_count": 193,
   "metadata": {},
   "outputs": [
    {
     "data": {
      "text/html": [
       "<div>\n",
       "<style scoped>\n",
       "    .dataframe tbody tr th:only-of-type {\n",
       "        vertical-align: middle;\n",
       "    }\n",
       "\n",
       "    .dataframe tbody tr th {\n",
       "        vertical-align: top;\n",
       "    }\n",
       "\n",
       "    .dataframe thead th {\n",
       "        text-align: right;\n",
       "    }\n",
       "</style>\n",
       "<table border=\"1\" class=\"dataframe\">\n",
       "  <thead>\n",
       "    <tr style=\"text-align: right;\">\n",
       "      <th></th>\n",
       "      <th>img</th>\n",
       "      <th>tumor</th>\n",
       "    </tr>\n",
       "  </thead>\n",
       "  <tbody>\n",
       "    <tr>\n",
       "      <td>0</td>\n",
       "      <td>C:/Users/Anna/CP/brain_tumor_dataset/yes/Y1.jpg</td>\n",
       "      <td>1</td>\n",
       "    </tr>\n",
       "    <tr>\n",
       "      <td>1</td>\n",
       "      <td>C:/Users/Anna/CP/brain_tumor_dataset/yes/Y10.jpg</td>\n",
       "      <td>1</td>\n",
       "    </tr>\n",
       "    <tr>\n",
       "      <td>2</td>\n",
       "      <td>C:/Users/Anna/CP/brain_tumor_dataset/yes/Y100.JPG</td>\n",
       "      <td>1</td>\n",
       "    </tr>\n",
       "    <tr>\n",
       "      <td>3</td>\n",
       "      <td>C:/Users/Anna/CP/brain_tumor_dataset/yes/Y101.jpg</td>\n",
       "      <td>1</td>\n",
       "    </tr>\n",
       "    <tr>\n",
       "      <td>4</td>\n",
       "      <td>C:/Users/Anna/CP/brain_tumor_dataset/yes/Y102.jpg</td>\n",
       "      <td>1</td>\n",
       "    </tr>\n",
       "    <tr>\n",
       "      <td>...</td>\n",
       "      <td>...</td>\n",
       "      <td>...</td>\n",
       "    </tr>\n",
       "    <tr>\n",
       "      <td>248</td>\n",
       "      <td>C:/Users/Anna/CP/brain_tumor_dataset/no/No18.jpg</td>\n",
       "      <td>0</td>\n",
       "    </tr>\n",
       "    <tr>\n",
       "      <td>249</td>\n",
       "      <td>C:/Users/Anna/CP/brain_tumor_dataset/no/No19.jpg</td>\n",
       "      <td>0</td>\n",
       "    </tr>\n",
       "    <tr>\n",
       "      <td>250</td>\n",
       "      <td>C:/Users/Anna/CP/brain_tumor_dataset/no/No20.jpg</td>\n",
       "      <td>0</td>\n",
       "    </tr>\n",
       "    <tr>\n",
       "      <td>251</td>\n",
       "      <td>C:/Users/Anna/CP/brain_tumor_dataset/no/No21.jpg</td>\n",
       "      <td>0</td>\n",
       "    </tr>\n",
       "    <tr>\n",
       "      <td>252</td>\n",
       "      <td>C:/Users/Anna/CP/brain_tumor_dataset/no/No22.jpg</td>\n",
       "      <td>0</td>\n",
       "    </tr>\n",
       "  </tbody>\n",
       "</table>\n",
       "<p>253 rows × 2 columns</p>\n",
       "</div>"
      ],
      "text/plain": [
       "                                                   img  tumor\n",
       "0      C:/Users/Anna/CP/brain_tumor_dataset/yes/Y1.jpg      1\n",
       "1     C:/Users/Anna/CP/brain_tumor_dataset/yes/Y10.jpg      1\n",
       "2    C:/Users/Anna/CP/brain_tumor_dataset/yes/Y100.JPG      1\n",
       "3    C:/Users/Anna/CP/brain_tumor_dataset/yes/Y101.jpg      1\n",
       "4    C:/Users/Anna/CP/brain_tumor_dataset/yes/Y102.jpg      1\n",
       "..                                                 ...    ...\n",
       "248   C:/Users/Anna/CP/brain_tumor_dataset/no/No18.jpg      0\n",
       "249   C:/Users/Anna/CP/brain_tumor_dataset/no/No19.jpg      0\n",
       "250   C:/Users/Anna/CP/brain_tumor_dataset/no/No20.jpg      0\n",
       "251   C:/Users/Anna/CP/brain_tumor_dataset/no/No21.jpg      0\n",
       "252   C:/Users/Anna/CP/brain_tumor_dataset/no/No22.jpg      0\n",
       "\n",
       "[253 rows x 2 columns]"
      ]
     },
     "execution_count": 193,
     "metadata": {},
     "output_type": "execute_result"
    }
   ],
   "source": [
    "# делаем датафрейм\n",
    "yas = []\n",
    "for root, dirs, files in os.walk(\"C:/Users/Anna/CP/brain_tumor_dataset/yes\"):\n",
    "    for file in files:\n",
    "        yas.append([root+\"/\"+file])\n",
    "\n",
    "nope = []\n",
    "for root, dirs, files in os.walk(\"C:/Users/Anna/CP/brain_tumor_dataset/no\"):\n",
    "    for file in files:\n",
    "        nope.append([root+\"/\"+file])\n",
    "        \n",
    "df = pd.DataFrame(yas + nope)\n",
    "sp = [1]*155 + [0]*98\n",
    "df.insert(1, \"tumor\", sp, True)\n",
    "df.columns = ['img','tumor']\n",
    "df"
   ]
  },
  {
   "cell_type": "code",
   "execution_count": 194,
   "metadata": {},
   "outputs": [],
   "source": [
    "# определяем характеристики модели\n",
    "model_definition = {\n",
    "    \"input_features\": [\n",
    "        {\"name\": \"img\", \"type\": \"image\", \"preprocessing\":\n",
    "        {\"height\": 128,\n",
    "         \"width\": 128,\n",
    "         \"resize_method\": \"interpolate\",\n",
    "         \"scaling\": \"pixel_normalization\",\n",
    "         \"num_channels\": 1}\n",
    "        }\n",
    "    ],\n",
    "    \"output_features\": [\n",
    "        {\"name\": \"tumor\", \"type\": \"numerical\"}\n",
    "    ]\n",
    "}"
   ]
  },
  {
   "cell_type": "code",
   "execution_count": 195,
   "metadata": {},
   "outputs": [],
   "source": [
    "model = LudwigModel(model_definition)\n",
    "train_stats = model.train(df)"
   ]
  },
  {
   "cell_type": "code",
   "execution_count": 196,
   "metadata": {},
   "outputs": [],
   "source": [
    "model.save(\"kek\")"
   ]
  }
 ],
 "metadata": {
  "kernelspec": {
   "display_name": "Python 3",
   "language": "python",
   "name": "python3"
  },
  "language_info": {
   "codemirror_mode": {
    "name": "ipython",
    "version": 3
   },
   "file_extension": ".py",
   "mimetype": "text/x-python",
   "name": "python",
   "nbconvert_exporter": "python",
   "pygments_lexer": "ipython3",
   "version": "3.7.4"
  }
 },
 "nbformat": 4,
 "nbformat_minor": 2
}
